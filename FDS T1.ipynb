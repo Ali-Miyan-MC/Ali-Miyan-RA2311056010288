{
 "cells": [
  {
   "cell_type": "raw",
   "id": "74e963f6-a6f1-4592-89c6-49629119a0d2",
   "metadata": {},
   "source": [
    "#operationn on numpy [{)"
   ]
  },
  {
   "cell_type": "code",
   "execution_count": null,
   "id": "02769b5c-4cb4-41fc-ac9b-62f18e95e288",
   "metadata": {},
   "outputs": [],
   "source": [
    "import numpy as np"
   ]
  },
  {
   "cell_type": "code",
   "execution_count": 5,
   "id": "3eb0bfd9-8e78-48f2-b90d-194dcb8424c4",
   "metadata": {},
   "outputs": [
    {
     "name": "stdout",
     "output_type": "stream",
     "text": [
      "[1 1 1 1]\n",
      "1\n"
     ]
    }
   ],
   "source": [
    "#creating a 1D array\n",
    "import numpy as np\n",
    "arr=np.array([1,1,1,1])\n",
    "print(arr)\n",
    "print(arr.ndim)"
   ]
  },
  {
   "cell_type": "code",
   "execution_count": 19,
   "id": "4399b805-9e8a-4813-bb49-bdce90225166",
   "metadata": {},
   "outputs": [
    {
     "name": "stdout",
     "output_type": "stream",
     "text": [
      "[[0. 0. 0. 0. 0.]\n",
      " [0. 0. 0. 0. 0.]\n",
      " [0. 0. 0. 0. 0.]\n",
      " [0. 0. 0. 0. 0.]\n",
      " [0. 0. 0. 0. 0.]\n",
      " [0. 0. 0. 0. 0.]]\n",
      "2\n"
     ]
    }
   ],
   "source": [
    "#creating a 2D array\n",
    "import numpy as np\n",
    "arr=np.zeros((6,5))\n",
    "print(arr)\n",
    "print(arr.ndim)"
   ]
  },
  {
   "cell_type": "code",
   "execution_count": 11,
   "id": "b7e26be7-5edf-4863-828a-5df632442c76",
   "metadata": {},
   "outputs": [
    {
     "name": "stdout",
     "output_type": "stream",
     "text": [
      "[[1. 0.]\n",
      " [0. 1.]]\n",
      "2\n"
     ]
    }
   ],
   "source": [
    "#fill the 2D array with zeros and ones\n",
    "import numpy as np\n",
    "arr=np.eye(2)\n",
    "print(arr)\n",
    "print(arr.ndim)"
   ]
  },
  {
   "cell_type": "code",
   "execution_count": 23,
   "id": "9506b185-571e-4a80-9466-a0186a4cb6d2",
   "metadata": {},
   "outputs": [
    {
     "name": "stdout",
     "output_type": "stream",
     "text": [
      "[[7 7]\n",
      " [7 7]]\n",
      "2\n"
     ]
    }
   ],
   "source": [
    "#create a full function with 2D filler of 7\n",
    "import numpy as np\n",
    "arr=np.full((2,2),7)\n",
    "print(arr)\n",
    "print(arr.ndim)"
   ]
  },
  {
   "cell_type": "code",
   "execution_count": 48,
   "id": "7c0aaed2-30ee-4704-9a24-d8f3fbaf597e",
   "metadata": {},
   "outputs": [
    {
     "name": "stdout",
     "output_type": "stream",
     "text": [
      "[[1. 0. 0. 0. 0. 0.]\n",
      " [0. 1. 0. 0. 0. 0.]\n",
      " [0. 0. 1. 0. 0. 0.]\n",
      " [0. 0. 0. 1. 0. 0.]\n",
      " [0. 0. 0. 0. 1. 0.]\n",
      " [0. 0. 0. 0. 0. 1.]]\n",
      "[[0. 0. 1.]\n",
      " [0. 0. 0.]\n",
      " [0. 0. 0.]]\n",
      "[[1. 0. 0. 0. 0.]\n",
      " [0. 1. 0. 0. 0.]]\n",
      "[[1. 0.]\n",
      " [0. 1.]]\n",
      "[[1. 0.]\n",
      " [0. 1.]]\n",
      "[[1. 0. 0.]\n",
      " [0. 1. 0.]\n",
      " [0. 0. 1.]]\n"
     ]
    }
   ],
   "source": [
    "#using different slicing on array\n",
    "import numpy as np\n",
    "arr=np.eye(6)\n",
    "print(arr[:,:])\n",
    "\n",
    "print(arr[2:5,0:3])\n",
    "print(arr[0:2,0:5])\n",
    "print(arr[2:4,2:4])\n",
    "print(arr[-3:-1,-3:-1])\n",
    "print(arr[-4:-1,-4:-1])"
   ]
  },
  {
   "cell_type": "code",
   "execution_count": 31,
   "id": "45bced64-af62-4a83-a0f0-6c4016200698",
   "metadata": {},
   "outputs": [
    {
     "name": "stdout",
     "output_type": "stream",
     "text": [
      "[[1. 0.]\n",
      " [0. 1.]]\n",
      "2\n"
     ]
    }
   ],
   "source": [
    "#dimension of given array\n",
    "import numpy as np\n",
    "arr=np.eye(2)\n",
    "print(arr)\n",
    "print(arr.ndim)"
   ]
  },
  {
   "cell_type": "code",
   "execution_count": 44,
   "id": "70452a40-8687-412f-97e3-31c99b0096d2",
   "metadata": {},
   "outputs": [
    {
     "name": "stdout",
     "output_type": "stream",
     "text": [
      "[[[[[[[[2 2 2 2]]]]]]]]\n"
     ]
    }
   ],
   "source": [
    "creating an 8D array\n",
    "import numpy as np\n",
    "arr=np.array([2,2,2,2],ndmin=8)\n",
    "print(arr)\n"
   ]
  },
  {
   "cell_type": "code",
   "execution_count": null,
   "id": "989dc360-15bf-41bf-bef6-f15f89e404a3",
   "metadata": {},
   "outputs": [],
   "source": []
  },
  {
   "cell_type": "code",
   "execution_count": null,
   "id": "67f551a4-ad6e-4dc5-ac84-59e4dce2d7c9",
   "metadata": {},
   "outputs": [],
   "source": []
  }
 ],
 "metadata": {
  "kernelspec": {
   "display_name": "Python 3 (ipykernel)",
   "language": "python",
   "name": "python3"
  },
  "language_info": {
   "codemirror_mode": {
    "name": "ipython",
    "version": 3
   },
   "file_extension": ".py",
   "mimetype": "text/x-python",
   "name": "python",
   "nbconvert_exporter": "python",
   "pygments_lexer": "ipython3",
   "version": "3.12.4"
  }
 },
 "nbformat": 4,
 "nbformat_minor": 5
}
