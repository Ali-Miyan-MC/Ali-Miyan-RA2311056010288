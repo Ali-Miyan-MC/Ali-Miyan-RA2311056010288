{
 "cells": [
  {
   "cell_type": "raw",
   "id": "a18a80ff-e35a-4c34-9bab-d5b710b7d9db",
   "metadata": {},
   "source": [
    "#indexing"
   ]
  },
  {
   "cell_type": "code",
   "execution_count": 14,
   "id": "ab023b51-fdf5-412e-8896-f7cb65bb1321",
   "metadata": {},
   "outputs": [
    {
     "name": "stdout",
     "output_type": "stream",
     "text": [
      "[[[1, 2, 3, 4], [5, 6, 7, 8], [4, 7, 8, 3]], [[1, 2, 3, 4], [1, 4, 6, 8], [8, 6, 7, 3]], [[7, 4, 5, 6], [3, 4, 1, 2], [6, 7, 3, 4]], [[1, 2, 3, 4], [5, 6, 7, 8], [4, 7, 8, 3]], [[1, 2, 3, 4], [1, 4, 6, 8], [8, 6, 7, 3]], [[7, 4, 5, 6], [3, 4, 1, 2], [6, 7, 3, 4]]]\n"
     ]
    }
   ],
   "source": [
    "import numpy as np\n",
    "a=([[[1,2,3,4],[5,6,7,8],[4,7,8,3]],\n",
    "               [[1,2,3,4],[1,4,6,8],[8,6,7,3]],\n",
    "               [[7,4,5,6],[3,4,1,2],[6,7,3,4]]])\n",
    "b=([[[1,2,3,4],[5,6,7,8],[4,7,8,3]],\n",
    "               [[1,2,3,4],[1,4,6,8],[8,6,7,3]],\n",
    "               [[7,4,5,6],[3,4,1,2],[6,7,3,4]]])\n",
    "print(a+b)"
   ]
  },
  {
   "cell_type": "code",
   "execution_count": 5,
   "id": "efe38529-047b-4c36-af24-32ce4ff047d6",
   "metadata": {},
   "outputs": [
    {
     "name": "stdout",
     "output_type": "stream",
     "text": [
      "[[1 2 3 4]\n",
      " [5 6 7 8]\n",
      " [3 4 6 2]]\n",
      "  C_CONTIGUOUS : True\n",
      "  F_CONTIGUOUS : False\n",
      "  OWNDATA : True\n",
      "  WRITEABLE : True\n",
      "  ALIGNED : True\n",
      "  WRITEBACKIFCOPY : False\n",
      "\n",
      "(3, 4)\n",
      "(16, 4)\n",
      "2\n",
      "<memory at 0x00000270273D0C70>\n",
      "4\n",
      "None\n",
      "48\n",
      "[[1 5 3]\n",
      " [2 6 4]\n",
      " [3 7 6]\n",
      " [4 8 2]]\n",
      "[[1 2 3 4]\n",
      " [5 6 7 8]\n",
      " [3 4 6 2]]\n",
      "[[0 0 0 0]\n",
      " [0 0 0 0]\n",
      " [0 0 0 0]]\n",
      "12\n"
     ]
    }
   ],
   "source": [
    "import numpy as np \n",
    "arr1 = np.array([[1,2,3,4], [5,6,7,8], [3,4,6,2]])\n",
    "print(arr1)\n",
    "print(arr1.flags)\n",
    "print(arr1.shape)\n",
    "print(arr1.strides)\n",
    "print(arr1.ndim)\n",
    "print(arr1.data)                                                      \n",
    "print(arr1.itemsize)\n",
    "print(arr1.base)\n",
    "print(arr1.nbytes)\n",
    "print(arr1.T)\n",
    "print(arr1.real)\n",
    "print(arr1.imag)\n",
    "print(arr1.size)\n"
   ]
  },
  {
   "cell_type": "code",
   "execution_count": 3,
   "id": "b1f38446-764d-4059-8389-1f80df6e6745",
   "metadata": {},
   "outputs": [
    {
     "name": "stdout",
     "output_type": "stream",
     "text": [
      "  C_CONTIGUOUS : True\n",
      "  F_CONTIGUOUS : False\n",
      "  OWNDATA : True\n",
      "  WRITEABLE : True\n",
      "  ALIGNED : True\n",
      "  WRITEBACKIFCOPY : False\n",
      "\n",
      "(3, 4)\n",
      "(16, 4)\n",
      "2\n",
      "<memory at 0x00000270273E0450>\n",
      "4\n",
      "None\n",
      "48\n",
      "[[1 5 3]\n",
      " [2 6 4]\n",
      " [3 7 6]\n",
      " [4 8 2]]\n",
      "[[1 2 3 4]\n",
      " [5 6 7 8]\n",
      " [3 4 6 2]]\n",
      "[[0 0 0 0]\n",
      " [0 0 0 0]\n",
      " [0 0 0 0]]\n",
      "12\n"
     ]
    }
   ],
   "source": [
    "print(arr1.flags)\n",
    "print(arr1.shape)\n",
    "print(arr1.strides)\n",
    "print(arr1.ndim)\n",
    "print(arr1.data)                                                      \n",
    "print(arr1.itemsize)\n",
    "print(arr1.base)\n",
    "print(arr1.nbytes)\n",
    "print(arr1.T)\n",
    "print(arr1.real)\n",
    "print(arr1.imag)\n",
    "print(arr1.size)\n"
   ]
  }
 ],
 "metadata": {
  "kernelspec": {
   "display_name": "Python 3 (ipykernel)",
   "language": "python",
   "name": "python3"
  },
  "language_info": {
   "codemirror_mode": {
    "name": "ipython",
    "version": 3
   },
   "file_extension": ".py",
   "mimetype": "text/x-python",
   "name": "python",
   "nbconvert_exporter": "python",
   "pygments_lexer": "ipython3",
   "version": "3.12.4"
  }
 },
 "nbformat": 4,
 "nbformat_minor": 5
}
